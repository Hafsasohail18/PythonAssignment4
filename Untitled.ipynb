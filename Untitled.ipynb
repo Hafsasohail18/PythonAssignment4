{
 "cells": [
  {
   "cell_type": "code",
   "execution_count": 5,
   "id": "79bbbb2a",
   "metadata": {},
   "outputs": [
    {
     "name": "stdout",
     "output_type": "stream",
     "text": [
      " Enter First number: 5\n",
      " Enter Second number: 2\n",
      "Please select operation -\n",
      "        1. Add\n",
      "        2. Subtract\n",
      "        3. Multiply \n",
      "        4. Divide\n",
      "        5. Power\n",
      " Select operations form 1, 2, 3, 4, 5 : 5\n",
      "The result is :  25\n"
     ]
    }
   ],
   "source": [
    "# 1. Make a calculator using Python with addition , subtraction ,multiplication ,division and power.\n",
    "\n",
    "num1 = int(input(\" Enter First number: \"))\n",
    "num2 = int(input(\" Enter Second number: \"))\n",
    "\n",
    "print('''Please select operation -\n",
    "        1. Add\n",
    "        2. Subtract\n",
    "        3. Multiply \n",
    "        4. Divide\n",
    "        5. Power''')\n",
    "\n",
    "select = int(input(\" Select operations form 1, 2, 3, 4, 5 : \"))\n",
    "\n",
    "if select == 1: \n",
    "    print(\"The result is : \", num1 + num2)\n",
    "    \n",
    "elif select == 2: \n",
    "    print(\"The result is : \", num1 - num2)\n",
    "    \n",
    "elif select == 3:\n",
    "    print(\"The result is : \", num1 * num2)\n",
    "    \n",
    "elif select == 4:\n",
    "    print(\"The result is : \", num1 / num2)\n",
    "    \n",
    "elif select == 5:\n",
    "    print(\"The result is : \", num1 ** num2)\n",
    "    \n",
    "else:\n",
    "   print(\" Invalid \")\n",
    "    \n",
    "\n"
   ]
  },
  {
   "cell_type": "code",
   "execution_count": 11,
   "id": "5fc009cf",
   "metadata": {},
   "outputs": [
    {
     "name": "stdout",
     "output_type": "stream",
     "text": [
      "19\n"
     ]
    }
   ],
   "source": [
    "# 2. Write a program to check if there is any numeric value in list using for loop.\n",
    "\n",
    "list1 = [\"Hafsa\",\"Student\",19,\"Data Science\"]\n",
    "\n",
    "for n in list1:\n",
    "    if type(n) == int: \n",
    "        print(n)"
   ]
  },
  {
   "cell_type": "code",
   "execution_count": 14,
   "id": "5e411a44",
   "metadata": {},
   "outputs": [
    {
     "data": {
      "text/plain": [
       "dict_keys(['name', 'age', 'Birthdate', ''])"
      ]
     },
     "execution_count": 14,
     "metadata": {},
     "output_type": "execute_result"
    }
   ],
   "source": [
    "# 3. Write a Python script to add a key to a dictionary.\n",
    "\n",
    "a = {\"name\":\"Hafsa Sohail\",\"age\":19,\"Birthdate\":22,\"\":\"October\"}\n",
    "a.keys()"
   ]
  },
  {
   "cell_type": "code",
   "execution_count": 21,
   "id": "3c9f8b90",
   "metadata": {},
   "outputs": [
    {
     "name": "stdout",
     "output_type": "stream",
     "text": [
      "323\n"
     ]
    }
   ],
   "source": [
    "# 4. Write a Python program to sum all the numeric items in a dictionary.\n",
    "\n",
    "num = {\n",
    "  \"num3\": 56,\n",
    "  \"num4\": 64,\n",
    "  \"num5\": 85,\n",
    "  \"num6\": 118\n",
    "}\n",
    "\n",
    "print(sum(num.values()))\n",
    "\n"
   ]
  },
  {
   "cell_type": "code",
   "execution_count": 18,
   "id": "61e7199f",
   "metadata": {},
   "outputs": [
    {
     "name": "stdout",
     "output_type": "stream",
     "text": [
      "apple\n",
      "mango\n"
     ]
    }
   ],
   "source": [
    "# 5. Write a program to identify duplicate values from list.\n",
    "\n",
    "myList = [\"apple\",\"mango\",\"grapes\",\"mango\",\"pineapple\",\"Dragon fruit\",\"apple\",\"banana\",\"watermelon\"]\n",
    "\n",
    "for i in range(0, len(myList)):    \n",
    "    for j in range(i+1, len(myList)):    \n",
    "        if(myList[i] == myList[j]):    \n",
    "            print(myList[j]);    \n",
    "\n",
    "\n"
   ]
  },
  {
   "cell_type": "code",
   "execution_count": 12,
   "id": "bbef09b9",
   "metadata": {},
   "outputs": [
    {
     "name": "stdout",
     "output_type": "stream",
     "text": [
      "Enter key value for check: 7\n",
      "Key does not exist in the dictionary\n"
     ]
    }
   ],
   "source": [
    "# 6. Write a Python script to check if a given key already exists in a dictionary\n",
    "\n",
    "d = {1: 10, 2: 20, 3: 30, 4: 40, 5: 50, 6: 60}\n",
    "def keyPresent(x):\n",
    "  if x in d:\n",
    "      print('Key exists in the dictionary')\n",
    "  else:\n",
    "      print('Key does not exist in the dictionary')\n",
    "        \n",
    "keyPresent(int(input(\"Enter key value for check: \")))    \n",
    "        \n"
   ]
  },
  {
   "cell_type": "code",
   "execution_count": null,
   "id": "fe840eb0",
   "metadata": {},
   "outputs": [],
   "source": []
  },
  {
   "cell_type": "code",
   "execution_count": null,
   "id": "82b87afd",
   "metadata": {},
   "outputs": [],
   "source": []
  }
 ],
 "metadata": {
  "kernelspec": {
   "display_name": "Python 3 (ipykernel)",
   "language": "python",
   "name": "python3"
  },
  "language_info": {
   "codemirror_mode": {
    "name": "ipython",
    "version": 3
   },
   "file_extension": ".py",
   "mimetype": "text/x-python",
   "name": "python",
   "nbconvert_exporter": "python",
   "pygments_lexer": "ipython3",
   "version": "3.9.7"
  }
 },
 "nbformat": 4,
 "nbformat_minor": 5
}
